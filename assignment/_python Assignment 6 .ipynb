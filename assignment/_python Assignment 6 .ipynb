{
 "cells": [
  {
   "cell_type": "code",
   "execution_count": 2,
   "id": "b8b07d50",
   "metadata": {},
   "outputs": [
    {
     "name": "stdout",
     "output_type": "stream",
     "text": [
      "Enter numerator: 20\n",
      "Enter denominator: 10\n",
      "Simplified Fraction: 2/1\n"
     ]
    }
   ],
   "source": [
    "# 1. Write a program that has a class Fraction with attributes numerator and denominator. Enter\n",
    "#      the values of the attributes and print the fraction in simplified form.\n",
    "\n",
    "class Fraction:\n",
    "    def __init__(self, numerator, denominator):\n",
    "        self.numerator = numerator\n",
    "        self.denominator = denominator\n",
    "\n",
    "    def simplify(self):\n",
    "        def gcd(a, b):\n",
    "            while b:\n",
    "                a, b = b, a % b\n",
    "            return a\n",
    "\n",
    "        common_divisor = gcd(self.numerator, self.denominator)\n",
    "        self.numerator //= common_divisor\n",
    "        self.denominator //= common_divisor\n",
    "\n",
    "    def __str__(self):\n",
    "        return f\"{self.numerator}/{self.denominator}\"\n",
    "\n",
    "\n",
    "numerator = int(input(\"Enter numerator: \"))\n",
    "denominator = int(input(\"Enter denominator: \"))\n",
    "\n",
    "fraction = Fraction(numerator, denominator)\n",
    "fraction.simplify()\n",
    "print(\"Simplified Fraction:\", fraction)\n",
    "\n",
    "\n",
    "\n"
   ]
  },
  {
   "cell_type": "code",
   "execution_count": 3,
   "id": "eb29cbfc",
   "metadata": {},
   "outputs": [
    {
     "name": "stdout",
     "output_type": "stream",
     "text": [
      "\n",
      "Available Products:\n",
      "Code: 1, Name: Bread, Price: 20\n",
      "Code: 2, Name: Milk, Price: 30\n",
      "Code: 3, Name: Eggs, Price: 10\n",
      "\n",
      "Enter quantities for each product:\n",
      "Bread (Rs.20): 3\n",
      "Milk (Rs.30): 5\n",
      "Eggs (Rs.10): 8\n",
      "\n",
      "Total Bill Amount: Rs.290\n"
     ]
    }
   ],
   "source": [
    "# 2. Write a program that has a class store which keeps record of code and price of each product.\n",
    "#      Display a menu of all products to the user and prompt him to enter the quantity of each\n",
    "#     tem required. Generate a bill and display the total amount.\n",
    "\n",
    "class Store:\n",
    "    def __init__(self):\n",
    "        self.products = {}\n",
    "\n",
    "    def add_product(self, code, name, price):\n",
    "        self.products[code] = {'name': name, 'price': price}\n",
    "\n",
    "    def display_menu(self):\n",
    "        print(\"\\nAvailable Products:\")\n",
    "        for code, details in self.products.items():\n",
    "            print(f\"Code: {code}, Name: {details['name']}, Price: {details['price']}\")\n",
    "\n",
    "    def generate_bill(self):\n",
    "        total_amount = 0\n",
    "        print(\"\\nEnter quantities for each product:\")\n",
    "        for code, details in self.products.items():\n",
    "            quantity = int(input(f\"{details['name']} (Rs.{details['price']}): \"))\n",
    "            total_amount += quantity * details['price']\n",
    "        print(f\"\\nTotal Bill Amount: Rs.{total_amount}\")\n",
    "\n",
    "\n",
    "\n",
    "store = Store()\n",
    "store.add_product(1, \"Bread\", 20)\n",
    "store.add_product(2, \"Milk\", 30)\n",
    "store.add_product(3, \"Eggs\", 10)\n",
    "\n",
    "store.display_menu()\n",
    "store.generate_bill()\n"
   ]
  },
  {
   "cell_type": "code",
   "execution_count": 4,
   "id": "7b72ab97",
   "metadata": {},
   "outputs": [
    {
     "name": "stdout",
     "output_type": "stream",
     "text": [
      "Enter a string: ababcabc\n",
      "\n",
      "String Analysis:\n",
      "Uppercase: 0\n",
      "Vowels: 3\n",
      "Consonants: 5\n",
      "Spaces: 0\n"
     ]
    }
   ],
   "source": [
    "# 3. Write a class that stores a string and all its status details such as number of uppercase\n",
    "#    characters, vowels, consonants, spaces etc.\n",
    "class StringStatus:\n",
    "    def __init__(self, string):\n",
    "        self.string = string\n",
    "\n",
    "    def analyze(self):\n",
    "        status = {\n",
    "            \"Uppercase\": sum(1 for char in self.string if char.isupper()),\n",
    "            \"Vowels\": sum(1 for char in self.string.lower() if char in \"aeiou\"),\n",
    "            \"Consonants\": sum(1 for char in self.string.lower() if char.isalpha() and char not in \"aeiou\"),\n",
    "            \"Spaces\": sum(1 for char in self.string if char.isspace()),\n",
    "        }\n",
    "        return status\n",
    "\n",
    "\n",
    "\n",
    "text = input(\"Enter a string: \")\n",
    "status = StringStatus(text).analyze()\n",
    "print(\"\\nString Analysis:\")\n",
    "for key, value in status.items():\n",
    "    print(f\"{key}: {value}\")\n"
   ]
  },
  {
   "cell_type": "code",
   "execution_count": 5,
   "id": "19d40cef",
   "metadata": {},
   "outputs": [
    {
     "name": "stdout",
     "output_type": "stream",
     "text": [
      "Name: Dr. Smith, Age: 45\n",
      "Publications: Book A, Book B, Journal X\n"
     ]
    }
   ],
   "source": [
    "# 4. Write a program that has a class person. Inherit a class Faculty from person which also has\n",
    "#   class Publications.\n",
    "\n",
    "class Person:\n",
    "    def __init__(self, name, age):\n",
    "        self.name = name\n",
    "        self.age = age\n",
    "\n",
    "    def display(self):\n",
    "        print(f\"Name: {self.name}, Age: {self.age}\")\n",
    "\n",
    "\n",
    "class Publications:\n",
    "    def __init__(self, publications):\n",
    "        self.publications = publications\n",
    "\n",
    "    def display_publications(self):\n",
    "        print(\"Publications:\", \", \".join(self.publications))\n",
    "\n",
    "\n",
    "class Faculty(Person, Publications):\n",
    "    def __init__(self, name, age, publications):\n",
    "        Person.__init__(self, name, age)\n",
    "        Publications.__init__(self, publications)\n",
    "\n",
    "\n",
    "\n",
    "faculty = Faculty(\"Dr. Smith\", 45, [\"Book A\", \"Book B\", \"Journal X\"])\n",
    "faculty.display()\n",
    "faculty.display_publications()\n"
   ]
  },
  {
   "cell_type": "code",
   "execution_count": 6,
   "id": "92f1fca6",
   "metadata": {},
   "outputs": [
    {
     "name": "stdout",
     "output_type": "stream",
     "text": [
      "Enter the number of days to add: 21\n",
      "New Date: 2024-12-16\n"
     ]
    }
   ],
   "source": [
    "# 5. Write a program that overloads the + operator so that it can add a specified number of days\n",
    "#    to a given date.\n",
    "\n",
    "from datetime import date, timedelta\n",
    "\n",
    "class Date:\n",
    "    def __init__(self, year, month, day):\n",
    "        self.date = date(year, month, day)\n",
    "\n",
    "    def __add__(self, days):\n",
    "        return self.date + timedelta(days=days)\n",
    "\n",
    "    def __str__(self):\n",
    "        return self.date.strftime(\"%Y-%m-%d\")\n",
    "\n",
    "\n",
    "\n",
    "d = Date(2024, 11, 25)\n",
    "days_to_add = int(input(\"Enter the number of days to add: \"))\n",
    "new_date = d + days_to_add\n",
    "print(\"New Date:\", new_date)\n"
   ]
  },
  {
   "cell_type": "code",
   "execution_count": 7,
   "id": "4dc2db8b",
   "metadata": {},
   "outputs": [
    {
     "name": "stdout",
     "output_type": "stream",
     "text": [
      "Initial Distance 1: 100 meters\n",
      "Initial Distance 2: 30 meters\n",
      "Distance after subtraction: 70 meters\n"
     ]
    }
   ],
   "source": [
    "# 6. Write a program to overload -= operator to subtract two Distance objects\n",
    "\n",
    "class Distance:\n",
    "    def __init__(self, meters):\n",
    "        self.meters = meters\n",
    "\n",
    "    def __isub__(self, other):\n",
    "        self.meters -= other.meters\n",
    "        return self\n",
    "\n",
    "    def __str__(self):\n",
    "        return f\"{self.meters} meters\"\n",
    "\n",
    "\n",
    "\n",
    "d1 = Distance(100)\n",
    "d2 = Distance(30)\n",
    "\n",
    "print(\"Initial Distance 1:\", d1)\n",
    "print(\"Initial Distance 2:\", d2)\n",
    "\n",
    "d1 -= d2\n",
    "print(\"Distance after subtraction:\", d1)\n"
   ]
  },
  {
   "cell_type": "code",
   "execution_count": null,
   "id": "f1aaff3f",
   "metadata": {},
   "outputs": [],
   "source": []
  },
  {
   "cell_type": "code",
   "execution_count": null,
   "id": "7ca15d54",
   "metadata": {},
   "outputs": [],
   "source": []
  }
 ],
 "metadata": {
  "kernelspec": {
   "display_name": "Python 3 (ipykernel)",
   "language": "python",
   "name": "python3"
  },
  "language_info": {
   "codemirror_mode": {
    "name": "ipython",
    "version": 3
   },
   "file_extension": ".py",
   "mimetype": "text/x-python",
   "name": "python",
   "nbconvert_exporter": "python",
   "pygments_lexer": "ipython3",
   "version": "3.11.7"
  }
 },
 "nbformat": 4,
 "nbformat_minor": 5
}
