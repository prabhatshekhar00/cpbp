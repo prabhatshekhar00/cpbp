{
 "cells": [
  {
   "cell_type": "code",
   "execution_count": 1,
   "id": "502d8d6f-8ab3-457e-8cfc-8bd0e82d1f0e",
   "metadata": {},
   "outputs": [
    {
     "name": "stdout",
     "output_type": "stream",
     "text": [
      "['H', 'e', 'l', 'l', 'o']\n"
     ]
    }
   ],
   "source": [
    "#1. Write a program to extract each character from a string using a regular expression.\n",
    "import re\n",
    "\n",
    "def extract_characters(s):\n",
    "    return re.findall(r'.', s)  \n",
    "string = \"Hello\"\n",
    "print(extract_characters(string))  "
   ]
  },
  {
   "cell_type": "code",
   "execution_count": 2,
   "id": "9caad82a-e078-4929-a824-fba4dec5c9b5",
   "metadata": {},
   "outputs": [
    {
     "name": "stdout",
     "output_type": "stream",
     "text": [
      "['Hello', 'world']\n"
     ]
    }
   ],
   "source": [
    "#2. Write a program to extract each word from a string using a regular expression.\n",
    "import re\n",
    "\n",
    "def extract_words(s):\n",
    "    return re.findall(r'\\b\\w+\\b', s)  \n",
    "\n",
    "string = \"Hello world\"\n",
    "print(extract_words(string)) \n"
   ]
  },
  {
   "cell_type": "code",
   "execution_count": 3,
   "id": "3036d5be-56ce-44a7-977b-d9aafdeccce0",
   "metadata": {},
   "outputs": [
    {
     "name": "stdout",
     "output_type": "stream",
     "text": [
      "Hello\n"
     ]
    }
   ],
   "source": [
    "#3. Write a program to print the first word of the string.\n",
    "def first_word(s):\n",
    "    words = s.split()\n",
    "    return words[0] if words else None\n",
    "\n",
    "string = \"Hello world\"\n",
    "print(first_word(string)) \n"
   ]
  },
  {
   "cell_type": "code",
   "execution_count": 4,
   "id": "5ca55923-365c-400c-94ef-e3c15f4e9d41",
   "metadata": {},
   "outputs": [
    {
     "name": "stdout",
     "output_type": "stream",
     "text": [
      "world\n"
     ]
    }
   ],
   "source": [
    "#4. Write a program to print the last word of the string.\n",
    "def last_word(s):\n",
    "    words = s.split()\n",
    "    return words[-1] if words else None\n",
    "\n",
    "string = \"Hello world\"\n",
    "print(last_word(string))  \n",
    "\n"
   ]
  },
  {
   "cell_type": "code",
   "execution_count": 5,
   "id": "a886889d-3496-483e-aeb2-35adf00c69bd",
   "metadata": {},
   "outputs": [
    {
     "name": "stdout",
     "output_type": "stream",
     "text": [
      "['ab', 'cd', 'ef']\n"
     ]
    }
   ],
   "source": [
    "#5. Write the program to print the characters in pairs.\n",
    "def print_pairs(s):\n",
    "    pairs = [s[i:i+2] for i in range(0, len(s), 2)]\n",
    "    return pairs\n",
    "\n",
    "string = \"abcdef\"\n",
    "print(print_pairs(string))  \n"
   ]
  },
  {
   "cell_type": "code",
   "execution_count": 6,
   "id": "29f02717-8531-4fb8-9a02-041c9c89c4f4",
   "metadata": {},
   "outputs": [
    {
     "name": "stdout",
     "output_type": "stream",
     "text": [
      "['He', 'wo']\n"
     ]
    }
   ],
   "source": [
    "#6. Write a program to print only the first two characters of every word.\n",
    "def first_two_chars(s):\n",
    "    return [word[:2] for word in s.split()]\n",
    "\n",
    "string = \"Hello world\"\n",
    "print(first_two_chars(string))  "
   ]
  },
  {
   "cell_type": "code",
   "execution_count": 12,
   "id": "bc52ecd3-c5c8-4881-a49b-fad05d5c6610",
   "metadata": {},
   "outputs": [
    {
     "name": "stdout",
     "output_type": "stream",
     "text": [
      "True\n"
     ]
    }
   ],
   "source": [
    "#7. Write a program that validates a mobile phone number. The number should start with 7, 8, or 9 followed by 9 digits.\n",
    "import re\n",
    "def validate_mobile(number):\n",
    "    return bool(re.fullmatch(r'[789]\\d{9}', number))  \n",
    "\n",
    "number = \"9876543210\"\n",
    "print(validate_mobile(number))  "
   ]
  },
  {
   "cell_type": "code",
   "execution_count": 9,
   "id": "536ea571-562c-4c56-9b5f-13990f221530",
   "metadata": {},
   "outputs": [
    {
     "name": "stdout",
     "output_type": "stream",
     "text": [
      "['Apple', 'is', 'an', 'awesome']\n"
     ]
    }
   ],
   "source": [
    "#8. Write a program that prints only those words that starts with a vowel.\n",
    "import re\n",
    "\n",
    "def words_starting_with_vowel(s):\n",
    "    return re.findall(r'\\b[aeiouAEIOU]\\w*', s)  \n",
    "\n",
    "string = \"Apple is an awesome fruit\"\n",
    "print(words_starting_with_vowel(string)) \n"
   ]
  },
  {
   "cell_type": "code",
   "execution_count": 10,
   "id": "9cbf4a83-97f3-4f3c-ad5d-326698d9c5e5",
   "metadata": {},
   "outputs": [
    {
     "name": "stdout",
     "output_type": "stream",
     "text": [
      "True\n"
     ]
    }
   ],
   "source": [
    "#9. Write a program that uses a regular expression to match strings which starts with an upper-case character followed by a digit and a ‘- ‘.\n",
    "import re\n",
    "\n",
    "def match_pattern(s):\n",
    "    return bool(re.match(r'^[A-Z]\\d-', s))  \n",
    "\n",
    "string = \"A1-hello\"\n",
    "print(match_pattern(string))  \n"
   ]
  },
  {
   "cell_type": "code",
   "execution_count": 11,
   "id": "30277ff4-317b-484e-9e09-3243001a4d3c",
   "metadata": {},
   "outputs": [
    {
     "name": "stdout",
     "output_type": "stream",
     "text": [
      "Hello\n"
     ]
    }
   ],
   "source": [
    "#10. Write a program to extract the first n characters of a string.\n",
    "def first_n_chars(s, n):\n",
    "    return s[:n]\n",
    "\n",
    "string = \"Hello world\"\n",
    "n = 5\n",
    "print(first_n_chars(string, n)) "
   ]
  },
  {
   "cell_type": "code",
   "execution_count": null,
   "id": "344dce08-7931-4600-af1d-2f1b9c3255b4",
   "metadata": {},
   "outputs": [],
   "source": []
  }
 ],
 "metadata": {
  "kernelspec": {
   "display_name": "Python 3 (ipykernel)",
   "language": "python",
   "name": "python3"
  },
  "language_info": {
   "codemirror_mode": {
    "name": "ipython",
    "version": 3
   },
   "file_extension": ".py",
   "mimetype": "text/x-python",
   "name": "python",
   "nbconvert_exporter": "python",
   "pygments_lexer": "ipython3",
   "version": "3.12.0"
  }
 },
 "nbformat": 4,
 "nbformat_minor": 5
}
