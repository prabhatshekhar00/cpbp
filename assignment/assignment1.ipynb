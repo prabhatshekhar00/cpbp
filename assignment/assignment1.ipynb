{
 "cells": [
  {
   "cell_type": "code",
   "execution_count": 2,
   "id": "e8e6a871-491e-486a-a6cb-69933a7e9249",
   "metadata": {},
   "outputs": [
    {
     "name": "stdin",
     "output_type": "stream",
     "text": [
      "Enter x1 cordinate  4\n",
      "Enter y1 cordinate  4\n",
      "Enter x2 cordinate  4\n",
      "Enter y2 cordinate  4\n"
     ]
    },
    {
     "name": "stdout",
     "output_type": "stream",
     "text": [
      "Distance between the two points:  0.0\n"
     ]
    },
    {
     "name": "stdin",
     "output_type": "stream",
     "text": [
      "Enter the length of side a:  4\n",
      "Enter the length of side b:  4\n",
      "Enter the length of side c:  4\n"
     ]
    },
    {
     "name": "stdout",
     "output_type": "stream",
     "text": [
      "The area of the triangle is: 6.928203230275509\n",
      "String is 1234\n",
      "Integer is 5678\n",
      "12345678\n"
     ]
    },
    {
     "name": "stdin",
     "output_type": "stream",
     "text": [
      "Enter value of a 4\n",
      "Enter the value of b  5\n"
     ]
    },
    {
     "name": "stdout",
     "output_type": "stream",
     "text": [
      "5\n",
      "4\n",
      "list is: [10, 20, 30, 40, 50]\n",
      "The average is: 30.0\n",
      "Select operation:\n",
      "1. Add\n",
      "2. Subtract\n",
      "3. Multiply\n",
      "4. Divide\n"
     ]
    },
    {
     "name": "stdin",
     "output_type": "stream",
     "text": [
      "Enter choice(1/2/3/4):  1\n",
      "Enter first number:  4\n",
      "Enter second number:  5\n"
     ]
    },
    {
     "name": "stdout",
     "output_type": "stream",
     "text": [
      "The result is:  9.0\n"
     ]
    }
   ],
   "source": [
    "import math\n",
    "def distance():\n",
    "    x1= int(input(\"Enter x1 cordinate \"))\n",
    "    x2= int(input(\"Enter y1 cordinate \"))\n",
    "    y1= int(input(\"Enter x2 cordinate \"))\n",
    "    y2= int(input(\"Enter y2 cordinate \"))\n",
    "\n",
    "    distance = ((x2-x1)*(x2-x1))+((y2-y1)*(y2-y1))\n",
    "    print(\"Distance between the two points: \", math.sqrt(distance));\n",
    "\n",
    "def Heron():\n",
    "    a = int(input(\"Enter the length of side a: \"))\n",
    "    b = int(input(\"Enter the length of side b: \"))\n",
    "    c = int(input(\"Enter the length of side c: \"))\n",
    "    s = (a+b+c)/2\n",
    "    area = math.sqrt(s * (s - a) * (s - b) * (s - c))\n",
    "    print(\"The area of the triangle is:\", area)\n",
    "\n",
    "def billamount():\n",
    "    s = \"1234\"\n",
    "    n = 5678\n",
    "    print(\"String is\",s)\n",
    "    print(\"Integer is\",n)\n",
    "    n_str = str(n)\n",
    "    concatenated_str = s + n_str\n",
    "    result = int(concatenated_str)\n",
    "    print(result)\n",
    "\n",
    "\n",
    "def swap():\n",
    "    a = int(input(\"Enter value of a\"))\n",
    "    b = int(input(\"Enter the value of b \"))\n",
    "    a = a + b\n",
    "    b = a - b\n",
    "    a = a - b\n",
    "    print(a)\n",
    "    print(b)\n",
    "\n",
    "def average():\n",
    "    numbers = [10, 20, 30, 40, 50]\n",
    "    total=0\n",
    "    print(\"list is:\",numbers)\n",
    "    for num in numbers:\n",
    "        total += num\n",
    "    average = total / len(numbers)\n",
    "    print(\"The average is:\", average)\n",
    " # Write a simple basic calculator program in python\n",
    "    # Function to perform addition\n",
    "def add(x, y):\n",
    "    return x + y\n",
    "\n",
    "    # Function to perform subtraction\n",
    "def subtract(x, y):\n",
    "    return x - y\n",
    "\n",
    "    # Function to perform multiplication\n",
    "def multiply(x, y):\n",
    "    return x * y\n",
    "\n",
    "    # Function to perform division\n",
    "def divide(x, y):\n",
    "    if y != 0:\n",
    "        return x / y\n",
    "    else:\n",
    "        return \"Error! Division by zero.\"\n",
    "def calculator():\n",
    "   \n",
    "\n",
    "    # Display available operations\n",
    "    print(\"Select operation:\")\n",
    "    print(\"1. Add\")\n",
    "    print(\"2. Subtract\")\n",
    "    print(\"3. Multiply\")\n",
    "    print(\"4. Divide\")\n",
    "\n",
    "    # Take input from the user\n",
    "    choice = input(\"Enter choice(1/2/3/4): \")\n",
    "\n",
    "    # Input numbers\n",
    "    num1 = float(input(\"Enter first number: \"))\n",
    "    num2 = float(input(\"Enter second number: \"))\n",
    "\n",
    "    # Perform the selected operation\n",
    "    if choice == '1':\n",
    "        print(\"The result is: \",add(num1, num2))\n",
    "    elif choice == '2':\n",
    "        print(\"The result is: \",subtract(num1, num2))\n",
    "    elif choice == '3':\n",
    "        print(\"The result is: \",multiply(num1, num2))\n",
    "    elif choice == '4':\n",
    "        print(\"The result is: \",divide(num1, num2))\n",
    "    else:\n",
    "        print(\"Invalid input\")\n",
    "\n",
    "distance()\n",
    "Heron()\n",
    "billamount()\n",
    "swap()\n",
    "average()\n",
    "calculator()"
   ]
  },
  {
   "cell_type": "code",
   "execution_count": null,
   "id": "a0b91e6d-e87c-44c1-8534-e19db2ec6956",
   "metadata": {},
   "outputs": [],
   "source": []
  }
 ],
 "metadata": {
  "kernelspec": {
   "display_name": "Python 3 (ipykernel)",
   "language": "python",
   "name": "python3"
  },
  "language_info": {
   "codemirror_mode": {
    "name": "ipython",
    "version": 3
   },
   "file_extension": ".py",
   "mimetype": "text/x-python",
   "name": "python",
   "nbconvert_exporter": "python",
   "pygments_lexer": "ipython3",
   "version": "3.12.4"
  }
 },
 "nbformat": 4,
 "nbformat_minor": 5
}
