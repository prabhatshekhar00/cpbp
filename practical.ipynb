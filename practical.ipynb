{
 "cells": [
  {
   "cell_type": "code",
   "execution_count": 4,
   "id": "8644b086-5764-4eb4-8468-e53c1ac1b23d",
   "metadata": {},
   "outputs": [],
   "source": [
    "#a company collects costomer emailm address  but accedently stores  duplicates . weite a program to identify and remove duplicate user set . input : [\"a@gmail.com\",\"b@gmail.com\",a@gmail.com\",\"b@gmail.com]    and output : [\"a@gmail.com\",\"b@gmail.com\",c@gmail.com\"] , "
   ]
  },
  {
   "cell_type": "code",
   "execution_count": 12,
   "id": "165f93e5-59fa-463e-9920-f3e2dda8ed32",
   "metadata": {},
   "outputs": [
    {
     "name": "stdout",
     "output_type": "stream",
     "text": [
      "Updated email addresses: ['a@gmail.com', 'b@gmail.com', 'c@gmail.com']\n"
     ]
    }
   ],
   "source": [
    "def remove_duplicates_and_add_email(email_list):\n",
    "    unique_emails = list(dict.fromkeys(email_list))\n",
    "    \n",
    "    if \"c@gmail.com\" not in unique_emails:\n",
    "        unique_emails.append(\"c@gmail.com\")\n",
    "    \n",
    "    return unique_emails\n",
    "\n",
    "email_list = [\"a@gmail.com\", \"b@gmail.com\", \"a@gmail.com\", \"c@gmail.com\"]\n",
    "\n",
    "updated_email_list = remove_duplicates_and_add_email(email_list)\n",
    "\n",
    "print(\"Updated email addresses:\", updated_email_list)\n"
   ]
  },
  {
   "cell_type": "code",
   "execution_count": 2,
   "id": "74ffaeeb-f5b6-46a5-9e9b-ba5203bcfdc4",
   "metadata": {},
   "outputs": [],
   "source": [
    "##create a program that rerrange that word in the given sentence :\n",
    " #first word of the sebtence come last.\n",
    " #last word come first.\n",
    " #any another word in between rename in the same order.\n",
    " #use string manipulation  and list operations to solve this problem\n",
    " #implimant this solution within a class that take care of rearrangeing the sentence\n",
    " #handle  case like empty strings or sentence ith only one word \n"
   ]
  },
  {
   "cell_type": "code",
   "execution_count": 53,
   "id": "2f6cd2d4-c31d-470e-8381-6c7b5930c46c",
   "metadata": {},
   "outputs": [
    {
     "name": "stdout",
     "output_type": "stream",
     "text": [
      "Rearranged sentence : Python world this is Hello\n"
     ]
    }
   ],
   "source": [
    "\n",
    "class SentenceRearranger:\n",
    "    def __init__(self, sentence):\n",
    "        \n",
    "        self.sentence = sentence\n",
    "\n",
    "    def rearrange(self):\n",
    "        if not self.sentence:\n",
    "            return self.sentence\n",
    "\n",
    "        words = self.sentence.split()\n",
    "\n",
    "        if len(words) == 1:\n",
    "            return self.sentence\n",
    "\n",
    "        rearranged = [words[-1]] + words[1:-1] + [words[0]]\n",
    "\n",
    "        return ' '.join(rearranged)\n",
    "\n",
    "sentence= \"Hello world this is Python\"\n",
    "\n",
    "rearranger = SentenceRearranger(sentence)\n",
    "\n",
    "print(\"Rearranged sentence :\", rearranger.rearrange())  \n"
   ]
  },
  {
   "cell_type": "code",
   "execution_count": 31,
   "id": "7ffaa8c3-59bc-4c74-8974-f9c3d4991859",
   "metadata": {},
   "outputs": [],
   "source": [
    "### wrp to cheak the strongest of the password  base on the folling criteria\n",
    "  #at list 8 char longer\n",
    "  #comtain both uppercase and lowercase latter\n",
    "  #includes at least one number and one special character"
   ]
  },
  {
   "cell_type": "code",
   "execution_count": 57,
   "id": "3162906a-f0a8-424d-97c3-a8f83b8c61ee",
   "metadata": {},
   "outputs": [
    {
     "name": "stdout",
     "output_type": "stream",
     "text": [
      "Password 'StrongPassword!' is strong: False\n",
      "Password 'weakpassword' is strong: False\n"
     ]
    }
   ],
   "source": [
    " import re\n",
    "\n",
    "class PasswordStrengthChecker:\n",
    "    def __init__(self, password):\n",
    "        self.password = password\n",
    "    \n",
    "    def is_strong(self):\n",
    "        if len(self.password) < 8:\n",
    "            return False\n",
    "        \n",
    "        if not re.search(r'[a-z]', self.password):\n",
    "            return False\n",
    "        \n",
    "        if not re.search(r'[A-Z]', self.password):\n",
    "            return False\n",
    "        \n",
    "        if not re.search(r'[0-9]', self.password):\n",
    "            return False\n",
    "        \n",
    "        if not re.search(r'[!@#$%^&*(),.?\":{}|<>]', self.password): \n",
    "            return False\n",
    "    \n",
    "        return True\n",
    "\n",
    "password1 = \"StrongPassword!\"\n",
    "password2 = \"weakpassword\"\n",
    "\n",
    "\n",
    "checker1 = PasswordStrengthChecker(password1)\n",
    "checker2 = PasswordStrengthChecker(password2)\n",
    "\n",
    "\n",
    "print(f\"Password '{password1}' is strong: {checker1.is_strong()}\")\n",
    "print(f\"Password '{password2}' is strong: {checker2.is_strong()}\")\n",
    "\n"
   ]
  },
  {
   "cell_type": "code",
   "execution_count": null,
   "id": "4038ce63-4b22-4650-8c67-af8d2e0cc23e",
   "metadata": {},
   "outputs": [],
   "source": []
  }
 ],
 "metadata": {
  "kernelspec": {
   "display_name": "Python 3 (ipykernel)",
   "language": "python",
   "name": "python3"
  },
  "language_info": {
   "codemirror_mode": {
    "name": "ipython",
    "version": 3
   },
   "file_extension": ".py",
   "mimetype": "text/x-python",
   "name": "python",
   "nbconvert_exporter": "python",
   "pygments_lexer": "ipython3",
   "version": "3.12.4"
  }
 },
 "nbformat": 4,
 "nbformat_minor": 5
}
